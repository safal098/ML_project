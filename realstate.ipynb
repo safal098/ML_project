{
  "nbformat": 4,
  "nbformat_minor": 0,
  "metadata": {
    "colab": {
      "provenance": [],
      "authorship_tag": "ABX9TyMQ6kUHkO/ygO77l/sCBsWj",
      "include_colab_link": true
    },
    "kernelspec": {
      "name": "python3",
      "display_name": "Python 3"
    },
    "language_info": {
      "name": "python"
    }
  },
  "cells": [
    {
      "cell_type": "markdown",
      "metadata": {
        "id": "view-in-github",
        "colab_type": "text"
      },
      "source": [
        "<a href=\"https://colab.research.google.com/github/safal098/ML_project/blob/main/realstate.ipynb\" target=\"_parent\"><img src=\"https://colab.research.google.com/assets/colab-badge.svg\" alt=\"Open In Colab\"/></a>"
      ]
    },
    {
      "cell_type": "code",
      "source": [
        "import pandas as pd\n",
        "import numpy as np"
      ],
      "metadata": {
        "id": "WJ8BP9shaijA"
      },
      "execution_count": 2,
      "outputs": []
    },
    {
      "cell_type": "markdown",
      "source": [],
      "metadata": {
        "id": "1gezO6DHeOv_"
      }
    },
    {
      "cell_type": "code",
      "source": [
        "from google.colab import drive\n",
        "drive.mount('/content/drive')"
      ],
      "metadata": {
        "colab": {
          "base_uri": "https://localhost:8080/"
        },
        "id": "iek7DZmPeP94",
        "outputId": "0c703316-4594-42d2-b432-c96cb80df8f4"
      },
      "execution_count": 8,
      "outputs": [
        {
          "output_type": "stream",
          "name": "stdout",
          "text": [
            "Mounted at /content/drive\n"
          ]
        }
      ]
    },
    {
      "cell_type": "code",
      "execution_count": 11,
      "metadata": {
        "colab": {
          "base_uri": "https://localhost:8080/"
        },
        "id": "FAraoaaGZ8by",
        "outputId": "07ce5ccf-03f4-446d-fe65-fb2939724954"
      },
      "outputs": [
        {
          "output_type": "stream",
          "name": "stdout",
          "text": [
            "File exists\n"
          ]
        }
      ],
      "source": [
        "import os\n",
        "file_path = \"/content/drive/MyDrive/Real_Estate_Sales_2001-2022_GL.csv\"\n",
        "if os.path.exists(file_path):\n",
        "    print(\"File exists\")\n",
        "else:\n",
        "    print(\"File does not exist\")"
      ]
    },
    {
      "cell_type": "code",
      "source": [
        "df = pd.read_csv(\"/content/drive/MyDrive/Real_Estate_Sales_2001-2022_GL.csv\", low_memory=False)\n",
        "print(df.dtypes)"
      ],
      "metadata": {
        "colab": {
          "base_uri": "https://localhost:8080/"
        },
        "id": "uyHTynR6ahsI",
        "outputId": "1d30ee57-5d6b-4778-ae43-586bdf75c31f"
      },
      "execution_count": 12,
      "outputs": [
        {
          "output_type": "stream",
          "name": "stdout",
          "text": [
            "Serial Number         int64\n",
            "List Year             int64\n",
            "Date Recorded        object\n",
            "Town                 object\n",
            "Address              object\n",
            "Assessed Value      float64\n",
            "Sale Amount         float64\n",
            "Sales Ratio         float64\n",
            "Property Type        object\n",
            "Residential Type     object\n",
            "Non Use Code         object\n",
            "Assessor Remarks     object\n",
            "OPM remarks          object\n",
            "Location             object\n",
            "dtype: object\n"
          ]
        }
      ]
    },
    {
      "cell_type": "code",
      "source": [
        "import pandas as pd\n",
        "import matplotlib.pyplot as plt\n",
        "import seaborn as sns\n",
        "import logging\n",
        "import os\n",
        "\n",
        "# Set up logging\n",
        "logging.basicConfig(level=logging.INFO)\n",
        "\n",
        "def eda_summary(df, target='Sale Amount', save_plots=False, output_dir='eda_output'):\n",
        "    \"\"\"\n",
        "    Perform exploratory data analysis on DataFrame.\n",
        "\n",
        "    Args:\n",
        "        df (pd.DataFrame): Cleaned input DataFrame\n",
        "        target (str): Target variable for correlation\n",
        "        save_plots (bool): Whether to save plots to disk\n",
        "        output_dir (str): Directory to save plot files\n",
        "\n",
        "    Returns:\n",
        "        dict: Dictionary containing summary statistics\n",
        "    \"\"\"\n",
        "    logging.info(\"Starting EDA...\")\n",
        "\n",
        "    if save_plots:\n",
        "        os.makedirs(output_dir, exist_ok=True)\n",
        "\n",
        "    # Identify numerical and categorical features\n",
        "    numerical_features = df.select_dtypes(include=['number']).columns.tolist()\n",
        "    categorical_features = df.select_dtypes(exclude=['number']).columns.tolist()\n",
        "    logging.info(f\"Numerical Features: {numerical_features}\")\n",
        "    logging.info(f\"Categorical Features: {categorical_features}\")\n",
        "\n",
        "    # Missing values\n",
        "    missing_values = df.isnull().sum()\n",
        "    missing_percentage = (missing_values / len(df)) * 100\n",
        "    missing_report = pd.DataFrame({\n",
        "        'Missing Count': missing_values,\n",
        "        'Missing %': missing_percentage\n",
        "    }).sort_values(by='Missing %', ascending=False)\n",
        "    logging.info(\"\\nMissing Value Report:\")\n",
        "    logging.info(missing_report[missing_report['Missing %'] > 0])\n",
        "\n",
        "    # Distribution of target variable\n",
        "    plt.figure(figsize=(10, 6))\n",
        "    sns.histplot(df[target], bins=50, kde=True)\n",
        "    plt.title(f'Distribution of {target}')\n",
        "    plt.xlabel(target)\n",
        "    plt.ylabel('Frequency')\n",
        "    if save_plots:\n",
        "        plt.savefig(os.path.join(output_dir, f'{target}_distribution.png'))\n",
        "    plt.show()\n",
        "\n",
        "    # Descriptive statistics for numerical features\n",
        "    num_desc = df[numerical_features].describe()\n",
        "    logging.info(\"\\nDescriptive Statistics for Numerical Features:\")\n",
        "    logging.info(num_desc)\n",
        "\n",
        "    # Cardinality of categorical features\n",
        "    cat_cardinality = df[categorical_features].nunique()\n",
        "    logging.info(\"\\nCardinality of Categorical Features:\")\n",
        "    logging.info(cat_cardinality)\n",
        "\n",
        "    # Initialize correlation to None to avoid UnboundLocalError\n",
        "    correlation = None\n",
        "\n",
        "    # Correlation between numerical features and target\n",
        "    if target in numerical_features:\n",
        "        correlation = df[numerical_features].corrwith(df[target])\n",
        "        logging.info(f\"\\nCorrelation with {target}:\")\n",
        "        logging.info(correlation)\n",
        "\n",
        "        # Plot correlations\n",
        "        plt.figure(figsize=(10, 6))\n",
        "        correlation.plot(kind='barh', color='skyblue')\n",
        "        plt.title(f'Correlation with {target}')\n",
        "        plt.axvline(0, color='black', linestyle='--')\n",
        "        if save_plots:\n",
        "            plt.savefig(os.path.join(output_dir, f'{target}_correlation.png'))\n",
        "        plt.show()\n",
        "    else:\n",
        "        logging.warning(f\"{target} is not a numerical feature. Skipping correlation analysis.\")\n",
        "\n",
        "    logging.info(\"EDA completed.\")\n",
        "\n",
        "    return {\n",
        "        'numerical_features': numerical_features,\n",
        "        'categorical_features': categorical_features,\n",
        "        'missing_report': missing_report,\n",
        "        'numerical_stats': num_desc,\n",
        "        'cardinality': cat_cardinality,\n",
        "        'correlation': correlation if target in numerical_features else None\n",
        "    }"
      ],
      "metadata": {
        "id": "43t8Es90abwm"
      },
      "execution_count": 13,
      "outputs": []
    },
    {
      "cell_type": "code",
      "source": [
        "eda_results = eda_summary(df)\n",
        "print(eda_results)"
      ],
      "metadata": {
        "colab": {
          "base_uri": "https://localhost:8080/",
          "height": 1000
        },
        "id": "fF-WfiWVfj97",
        "outputId": "c18b0dfe-91dc-43e2-ef27-b80708ee4f7b"
      },
      "execution_count": 14,
      "outputs": [
        {
          "output_type": "display_data",
          "data": {
            "text/plain": [
              "<Figure size 1000x600 with 1 Axes>"
            ],
            "image/png": "[encoded data removed]"
          },
          "metadata": {}
        },
        {
          "output_type": "display_data",
          "data": {
            "text/plain": [
              "<Figure size 1000x600 with 1 Axes>"
            ],
            "image/png": "[encoded data removed]"
          },
          "metadata": {}
        },
        {
          "output_type": "stream",
          "name": "stdout",
          "text": [
            "{'numerical_features': ['Serial Number', 'List Year', 'Assessed Value', 'Sale Amount', 'Sales Ratio'], 'categorical_features': ['Date Recorded', 'Town', 'Address', 'Property Type', 'Residential Type', 'Non Use Code', 'Assessor Remarks', 'OPM remarks', 'Location'], 'missing_report':                   Missing Count  Missing %\n",
            "OPM remarks             1084598  98.812805\n",
            "Assessor Remarks         926401  84.400194\n",
            "Location                 799518  72.840459\n",
            "Non Use Code             784178  71.442901\n",
            "Residential Type         398389  36.295415\n",
            "Property Type            382446  34.842921\n",
            "Address                      51   0.004646\n",
            "Date Recorded                 2   0.000182\n",
            "Serial Number                 0   0.000000\n",
            "List Year                     0   0.000000\n",
            "Assessed Value                0   0.000000\n",
            "Town                          0   0.000000\n",
            "Sale Amount                   0   0.000000\n",
            "Sales Ratio                   0   0.000000, 'numerical_stats':        Serial Number     List Year  Assessed Value   Sale Amount   Sales Ratio\n",
            "count   1.097629e+06  1.097629e+06    1.097629e+06  1.097629e+06  1.097629e+06\n",
            "mean    5.370357e+05  2.011218e+03    2.818016e+05  4.053146e+05  9.603926e+00\n",
            "std     7.526074e+06  6.773485e+00    1.657890e+06  5.143492e+06  1.801664e+03\n",
            "min     0.000000e+00  2.001000e+03    0.000000e+00  0.000000e+00  0.000000e+00\n",
            "25%     3.071300e+04  2.005000e+03    8.909000e+04  1.450000e+05  4.778667e-01\n",
            "50%     8.070600e+04  2.011000e+03    1.405800e+05  2.330000e+05  6.105663e-01\n",
            "75%     1.703410e+05  2.018000e+03    2.282700e+05  3.750000e+05  7.707200e-01\n",
            "max     2.000500e+09  2.022000e+03    8.815100e+08  5.000000e+09  1.226420e+06, 'cardinality': Date Recorded         6958\n",
            "Town                   170\n",
            "Address             771931\n",
            "Property Type           11\n",
            "Residential Type         5\n",
            "Non Use Code            74\n",
            "Assessor Remarks     75286\n",
            "OPM remarks           6490\n",
            "Location            216556\n",
            "dtype: int64, 'correlation': Serial Number     0.002740\n",
            "List Year         0.012925\n",
            "Assessed Value    0.127525\n",
            "Sale Amount       1.000000\n",
            "Sales Ratio      -0.000390\n",
            "dtype: float64}\n"
          ]
        }
      ]
    },
    {
      "cell_type": "code",
      "source": [
        "# BLOCK 2: Clean & Inspect Data (FINAL FIXED VERSION)\n",
        "import pandas as pd\n",
        "from datetime import datetime\n",
        "import logging\n",
        "\n",
        "logging.basicConfig(level=logging.INFO)\n",
        "\n",
        "def clean_and_inspect_data(df):\n",
        "    logging.info(\"Starting data cleaning and inspection...\")\n",
        "\n",
        "    # Drop high-null columns, EXCEPT protected ones\n",
        "    null_percent = df.isnull().mean()\n",
        "    protected_cols = ['Location', 'Address', 'Town']  # Columns we want to preserve\n",
        "    cols_to_drop = null_percent[null_percent > 0.5].index.tolist()\n",
        "    if cols_to_drop:\n",
        "        # Exclude protected columns from being dropped\n",
        "        cols_to_drop = [col for col in cols_to_drop if col not in protected_cols]\n",
        "        df = df.drop(columns=cols_to_drop)\n",
        "        logging.warning(f\"Dropping highly null columns (excluding protected): {cols_to_drop}\")\n",
        "\n",
        "    # Handle duplicates\n",
        "    duplicate_rows = df.duplicated().sum()\n",
        "    if duplicate_rows > 0:\n",
        "        df = df.drop_duplicates()\n",
        "        logging.warning(f\"Removed {duplicate_rows} duplicate rows.\")\n",
        "\n",
        "    # Convert date column\n",
        "    if 'Date Recorded' in df.columns:\n",
        "        df['Date Recorded'] = pd.to_datetime(df['Date Recorded'], errors='coerce')\n",
        "\n",
        "    # Reduce memory by converting strings to category — handle NaN first\n",
        "    categorical_cols = ['Town', 'Address', 'Property Type', 'Residential Type', 'Location']\n",
        "    for col in categorical_cols:\n",
        "        if col in df.columns:\n",
        "            # Replace NaN with 'Unknown' before converting to avoid issues\n",
        "            df[col] = df[col].fillna('Unknown').astype('category')\n",
        "            logging.info(f\"Processed '{col}' as categorical with fillna('Unknown')\")\n",
        "\n",
        "    # Sanity checks\n",
        "    if 'Sale Amount' in df.columns:\n",
        "        negative_sales = (df['Sale Amount'] < 0).sum()\n",
        "        if negative_sales > 0:\n",
        "            logging.warning(f\"Found {negative_sales} negative 'Sale Amount' values.\")\n",
        "\n",
        "    logging.info(\"Data cleaning completed.\")\n",
        "    return df\n",
        "\n",
        "# Run block\n",
        "df_clean = clean_and_inspect_data(df)\n",
        "print(df_clean.dtypes.head())"
      ],
      "metadata": {
        "colab": {
          "base_uri": "https://localhost:8080/"
        },
        "id": "sBaveE8IfoQq",
        "outputId": "6b5cae90-76c8-4da0-feda-62e1e82d9b6b"
      },
      "execution_count": 15,
      "outputs": [
        {
          "output_type": "stream",
          "name": "stderr",
          "text": [
            "WARNING:root:Dropping highly null columns (excluding protected): ['Non Use Code', 'Assessor Remarks', 'OPM remarks']\n"
          ]
        },
        {
          "output_type": "stream",
          "name": "stdout",
          "text": [
            "Serial Number             int64\n",
            "List Year                 int64\n",
            "Date Recorded    datetime64[ns]\n",
            "Town                   category\n",
            "Address                category\n",
            "dtype: object\n"
          ]
        }
      ]
    },
    {
      "cell_type": "code",
      "source": [
        "# BLOCK 3: Exploratory Data Analysis\n",
        "import pandas as pd\n",
        "import matplotlib.pyplot as plt\n",
        "import seaborn as sns\n",
        "import logging\n",
        "\n",
        "logging.basicConfig(level=logging.INFO)\n",
        "\n",
        "def eda_summary(df, target='Sale Amount'):\n",
        "    logging.info(\"Starting EDA...\")\n",
        "\n",
        "    numerical_features = df.select_dtypes(include=['number']).columns.tolist()\n",
        "    categorical_features = df.select_dtypes(exclude=['number']).columns.tolist()\n",
        "\n",
        "    missing_report = df.isnull().sum().to_frame('Missing Count')\n",
        "    missing_report['Missing %'] = (missing_report['Missing Count'] / len(df)) * 100\n",
        "    logging.info(\"\\nMissing Value Report:\")\n",
        "    logging.info(missing_report.sort_values(by='Missing %', ascending=False))\n",
        "\n",
        "    # Distribution of target variable\n",
        "    plt.figure(figsize=(10, 6))\n",
        "    sns.histplot(df[target], bins=50, kde=True)\n",
        "    plt.title(f'Distribution of {target}')\n",
        "    plt.xlabel(target)\n",
        "    plt.ylabel('Frequency')\n",
        "    plt.show()\n",
        "\n",
        "    # Correlation matrix\n",
        "    if target in numerical_features:\n",
        "        correlation = df[numerical_features].corrwith(df[target])\n",
        "        plt.figure(figsize=(10, 6))\n",
        "        correlation.plot(kind='barh', color='skyblue')\n",
        "        plt.title(f'Correlation with {target}')\n",
        "        plt.axvline(0, color='black', linestyle='--')\n",
        "        plt.show()\n",
        "\n",
        "    logging.info(\"EDA completed.\")\n",
        "    return {\n",
        "        'numerical_features': numerical_features,\n",
        "        'categorical_features': categorical_features,\n",
        "        'missing_report': missing_report,\n",
        "        'correlation': correlation if target in numerical_features else None\n",
        "    }\n",
        "\n",
        "# Run block\n",
        "eda_results = eda_summary(df_clean)"
      ],
      "metadata": {
        "colab": {
          "base_uri": "https://localhost:8080/",
          "height": 1000
        },
        "id": "u1GN6VR7f7ZD",
        "outputId": "e19c1199-b42e-4186-d728-20d72ea496f2"
      },
      "execution_count": 17,
      "outputs": [
        {
          "output_type": "display_data",
          "data": {
            "text/plain": [
              "<Figure size 1000x600 with 1 Axes>"
            ],
            "image/png": "[encoded data removed]"
          },
          "metadata": {}
        },
        {
          "output_type": "display_data",
          "data": {
            "text/plain": [
              "<Figure size 1000x600 with 1 Axes>"
            ],
            "image/png": "[encoded data removed]"
          },
          "metadata": {}
        }
      ]
    },
    {
      "cell_type": "code",
      "source": [
        "# BLOCK 4: Preprocessing\n",
        "import pandas as pd\n",
        "import numpy as np\n",
        "import logging\n",
        "\n",
        "logging.basicConfig(level=logging.INFO)\n",
        "\n",
        "class DataPreprocessor:\n",
        "    def __init__(self):\n",
        "        self.impute_values_ = {}\n",
        "        self.outlier_bounds_ = {}\n",
        "\n",
        "    def fit(self, df):\n",
        "        logging.info(\"Fitting preprocessing rules...\")\n",
        "\n",
        "        numeric_cols = df.select_dtypes(include=['number']).columns\n",
        "        for col in numeric_cols:\n",
        "            self.impute_values_[col] = df[col].median()\n",
        "\n",
        "        categorical_cols = df.select_dtypes(exclude=['number']).columns\n",
        "        for col in categorical_cols:\n",
        "            mode = df[col].mode()[0] if not df[col].mode().empty else 'Unknown'\n",
        "            self.impute_values_[col] = mode\n",
        "\n",
        "        for col in ['Sale Amount', 'Assessed Value']:\n",
        "            Q1 = df[col].quantile(0.25)\n",
        "            Q3 = df[col].quantile(0.75)\n",
        "            IQR = Q3 - Q1\n",
        "            self.outlier_bounds_[col] = {'lower': Q1 - 1.5 * IQR, 'upper': Q3 + 1.5 * IQR}\n",
        "        return self\n",
        "\n",
        "    def transform(self, df):\n",
        "        logging.info(\"Applying transformations...\")\n",
        "        df = df.copy()\n",
        "\n",
        "        cols_to_drop = ['Serial Number', 'Assessor Remarks', 'OPM remarks']\n",
        "        df = df.drop(columns=[c for c in cols_to_drop if c in df.columns])\n",
        "\n",
        "        for col in ['Assessed Value', 'Sale Amount', 'Sales Ratio']:\n",
        "            if col in df.columns:\n",
        "                df[col] = pd.to_numeric(df[col], errors='coerce')\n",
        "\n",
        "        for col, val in self.impute_values_.items():\n",
        "            if col in df.columns:\n",
        "                df[col] = df[col].fillna(val)\n",
        "\n",
        "        for col, bounds in self.outlier_bounds_.items():\n",
        "            if col in df.columns:\n",
        "                df[col] = df[col].clip(lower=bounds['lower'], upper=bounds['upper'])\n",
        "\n",
        "        return df\n",
        "\n",
        "    def fit_transform(self, df):\n",
        "        return self.fit(df).transform(df)\n",
        "\n",
        "# Run block\n",
        "preprocessor = DataPreprocessor()\n",
        "df_processed = preprocessor.fit_transform(df_clean)\n",
        "print(df_processed.head())"
      ],
      "metadata": {
        "colab": {
          "base_uri": "https://localhost:8080/"
        },
        "id": "M2ZtevkwgCy2",
        "outputId": "4bc42692-6664-46fd-f570-cde9b6c2a0a6"
      },
      "execution_count": 18,
      "outputs": [
        {
          "output_type": "stream",
          "name": "stdout",
          "text": [
            "   List Year Date Recorded     Town          Address  Assessed Value  \\\n",
            "0       2020    2021-04-14  Ansonia    323 BEAVER ST        133000.0   \n",
            "1       2020    2021-05-26  Ansonia   152 JACKSON ST        110500.0   \n",
            "2       2020    2021-09-13  Ansonia  230 WAKELEE AVE        150500.0   \n",
            "3       2020    2020-12-14  Ansonia      57 PLATT ST        127400.0   \n",
            "4       2021    2022-06-20     Avon   12 BYRON DRIVE        179990.0   \n",
            "\n",
            "   Sale Amount  Sales Ratio Property Type Residential Type  \\\n",
            "0     248400.0       0.5354   Residential    Single Family   \n",
            "1     239900.0       0.4606   Residential     Three Family   \n",
            "2     325000.0       0.4630    Commercial          Unknown   \n",
            "3     202500.0       0.6291   Residential       Two Family   \n",
            "4     362500.0       0.4965   Residential            Condo   \n",
            "\n",
            "                             Location  \n",
            "0          POINT (-73.06822 41.35014)  \n",
            "1                             Unknown  \n",
            "2                             Unknown  \n",
            "3                             Unknown  \n",
            "4  POINT (-72.879115982 41.773452988)  \n"
          ]
        }
      ]
    },
    {
      "cell_type": "code",
      "source": [
        "# BLOCK 5: Encode Categorical Features\n",
        "from sklearn.preprocessing import OneHotEncoder\n",
        "import pandas as pd\n",
        "import logging\n",
        "\n",
        "logging.basicConfig(level=logging.INFO)\n",
        "\n",
        "class CategoricalFeatureProcessor:\n",
        "    def __init__(self, max_cardinality=10):\n",
        "        self.max_cardinality = max_cardinality\n",
        "        self.encoder = OneHotEncoder(handle_unknown='ignore', sparse_output=False)\n",
        "        self.low_cardinality_cols_ = []\n",
        "        self.encoded_feature_names_ = []\n",
        "\n",
        "    def fit(self, df):\n",
        "        cat_cols = df.select_dtypes(exclude=['number']).columns.tolist()\n",
        "        self.low_cardinality_cols_ = [col for col in cat_cols if df[col].nunique() < self.max_cardinality]\n",
        "        if self.low_cardinality_cols_:\n",
        "            self.encoder.fit(df[self.low_cardinality_cols_])\n",
        "            self.encoded_feature_names_ = self.encoder.get_feature_names_out(self.low_cardinality_cols_)\n",
        "        return self\n",
        "\n",
        "    def transform(self, df):\n",
        "        df = df.copy()\n",
        "        if self.low_cardinality_cols_:\n",
        "            encoded_array = self.encoder.transform(df[self.low_cardinality_cols_])\n",
        "            encoded_df = pd.DataFrame(encoded_array, columns=self.encoded_feature_names_, index=df.index)\n",
        "        else:\n",
        "            encoded_df = pd.DataFrame(index=df.index)\n",
        "        numerical_cols = df.select_dtypes(include=['number']).columns.tolist()\n",
        "        numerical_df = df[numerical_cols].copy()\n",
        "        return pd.concat([numerical_df, encoded_df], axis=1)\n",
        "\n",
        "    def fit_transform(self, df):\n",
        "        return self.fit(df).transform(df)\n",
        "\n",
        "# Run block\n",
        "processor = CategoricalFeatureProcessor(max_cardinality=10)\n",
        "X_encoded = processor.fit_transform(df_processed)\n",
        "print(X_encoded.head())"
      ],
      "metadata": {
        "colab": {
          "base_uri": "https://localhost:8080/"
        },
        "id": "uTConpG8gPeW",
        "outputId": "f068ea75-eb30-4a47-de74-ab83a1bbebfb"
      },
      "execution_count": 19,
      "outputs": [
        {
          "output_type": "stream",
          "name": "stdout",
          "text": [
            "   List Year  Assessed Value  Sale Amount  Sales Ratio  \\\n",
            "0       2020        133000.0     248400.0       0.5354   \n",
            "1       2020        110500.0     239900.0       0.4606   \n",
            "2       2020        150500.0     325000.0       0.4630   \n",
            "3       2020        127400.0     202500.0       0.6291   \n",
            "4       2021        179990.0     362500.0       0.4965   \n",
            "\n",
            "   Residential Type_Condo  Residential Type_Four Family  \\\n",
            "0                     0.0                           0.0   \n",
            "1                     0.0                           0.0   \n",
            "2                     0.0                           0.0   \n",
            "3                     0.0                           0.0   \n",
            "4                     1.0                           0.0   \n",
            "\n",
            "   Residential Type_Single Family  Residential Type_Three Family  \\\n",
            "0                             1.0                            0.0   \n",
            "1                             0.0                            1.0   \n",
            "2                             0.0                            0.0   \n",
            "3                             0.0                            0.0   \n",
            "4                             0.0                            0.0   \n",
            "\n",
            "   Residential Type_Two Family  Residential Type_Unknown  \n",
            "0                          0.0                       0.0  \n",
            "1                          0.0                       0.0  \n",
            "2                          0.0                       1.0  \n",
            "3                          1.0                       0.0  \n",
            "4                          0.0                       0.0  \n"
          ]
        }
      ]
    },
    {
      "cell_type": "code",
      "source": [
        "# BLOCK 6: Scale Numerical Features (FINAL FIXED VERSION)\n",
        "from sklearn.preprocessing import StandardScaler\n",
        "import pandas as pd\n",
        "import numpy as np\n",
        "import logging\n",
        "import joblib\n",
        "\n",
        "logging.basicConfig(level=logging.INFO)\n",
        "\n",
        "class HighCardinalityFeatureProcessor:\n",
        "    def __init__(self, high_cardinality_cols=None):\n",
        "        self.high_cardinality_cols = high_cardinality_cols or ['Address', 'Location', 'Town']\n",
        "        self.mappings_ = {}\n",
        "        self.scaler_ = StandardScaler()\n",
        "        self.numerical_features_to_scale = ['List Year', 'Assessed Value', 'Sales Ratio']\n",
        "\n",
        "    def fit(self, df):\n",
        "        \"\"\"Fit mappings and scaler on training data.\"\"\"\n",
        "        for col in self.high_cardinality_cols:\n",
        "            if col in df.columns:\n",
        "                # Convert to str to avoid categorical errors\n",
        "                unique_values = df[col].astype(str).unique()\n",
        "                self.mappings_[col] = {val: idx for idx, val in enumerate(unique_values)}\n",
        "                logging.info(f\"Built mapping for '{col}' with {len(unique_values)} unique values\")\n",
        "\n",
        "        # Fit scaler\n",
        "        if all(col in df.columns for col in self.numerical_features_to_scale):\n",
        "            self.scaler_.fit(df[self.numerical_features_to_scale])\n",
        "\n",
        "        return self\n",
        "\n",
        "    def transform(self, df):\n",
        "        \"\"\"Apply mappings and scaling to DataFrame.\"\"\"\n",
        "        df = df.copy()\n",
        "\n",
        "        for col in self.high_cardinality_cols:\n",
        "            if col in df.columns:\n",
        "                new_col_name = f'{col}_encoded'\n",
        "                # Use .astype(str) again to ensure safe mapping\n",
        "                df[new_col_name] = df[col].astype(str).map(self.mappings_[col]).fillna(-1).astype(int)\n",
        "                logging.info(f\"Encoded column '{col}' → '{new_col_name}', missing values filled with -1\")\n",
        "\n",
        "        # Apply scaling\n",
        "        if all(col in df.columns for col in self.numerical_features_to_scale):\n",
        "            df[self.numerical_features_to_scale] = self.scaler_.transform(\n",
        "                df[self.numerical_features_to_scale]\n",
        "            )\n",
        "\n",
        "        return df\n",
        "\n",
        "    def fit_transform(self, df):\n",
        "        return self.fit(df).transform(df)\n",
        "\n",
        "    def save_mappings_and_scaler(self, output_dir='feature_processor'):\n",
        "        import os\n",
        "        os.makedirs(output_dir, exist_ok=True)\n",
        "        joblib.dump(self.mappings_, os.path.join(output_dir, 'mappings.pkl'))\n",
        "        joblib.dump(self.scaler_, os.path.join(output_dir, 'scaler.pkl'))\n",
        "\n",
        "# Run block\n",
        "high_cardinality_cols = ['Address', 'Location', 'Town']\n",
        "processor = HighCardinalityFeatureProcessor(high_cardinality_cols=high_cardinality_cols)\n",
        "df_encoded_scaled = processor.fit_transform(df_processed)\n",
        "processor.save_mappings_and_scaler()\n",
        "\n",
        "# Only include encoded columns that exist in the DataFrame\n",
        "encoded_cols = [f\"{col}_encoded\" for col in high_cardinality_cols if f\"{col}_encoded\" in df_encoded_scaled.columns]\n",
        "\n",
        "all_features_df = pd.concat([\n",
        "    df_encoded_scaled[['List Year', 'Assessed Value', 'Sales Ratio'] + encoded_cols],\n",
        "    X_encoded.drop(columns=['List Year', 'Assessed Value', 'Sales Ratio'], errors='ignore')\n",
        "], axis=1)\n",
        "\n",
        "target_variable = df_encoded_scaled['Sale Amount']\n",
        "print(all_features_df.head())"
      ],
      "metadata": {
        "colab": {
          "base_uri": "https://localhost:8080/"
        },
        "id": "C7JSlRnOgUCc",
        "outputId": "9f8a0c9a-9900-4d8c-e51d-634355f3d9be"
      },
      "execution_count": 20,
      "outputs": [
        {
          "output_type": "stream",
          "name": "stdout",
          "text": [
            "   List Year  Assessed Value  Sales Ratio  Address_encoded  Location_encoded  \\\n",
            "0   1.296468       -0.348936    -0.005033                0                 0   \n",
            "1   1.296468       -0.537396    -0.005075                1                 1   \n",
            "2   1.296468       -0.202355    -0.005074                2                 1   \n",
            "3   1.296468       -0.395841    -0.004981                3                 1   \n",
            "4   1.444103        0.044654    -0.005055                4                 2   \n",
            "\n",
            "   Town_encoded  Sale Amount  Residential Type_Condo  \\\n",
            "0             0     248400.0                     0.0   \n",
            "1             0     239900.0                     0.0   \n",
            "2             0     325000.0                     0.0   \n",
            "3             0     202500.0                     0.0   \n",
            "4             1     362500.0                     1.0   \n",
            "\n",
            "   Residential Type_Four Family  Residential Type_Single Family  \\\n",
            "0                           0.0                             1.0   \n",
            "1                           0.0                             0.0   \n",
            "2                           0.0                             0.0   \n",
            "3                           0.0                             0.0   \n",
            "4                           0.0                             0.0   \n",
            "\n",
            "   Residential Type_Three Family  Residential Type_Two Family  \\\n",
            "0                            0.0                          0.0   \n",
            "1                            1.0                          0.0   \n",
            "2                            0.0                          0.0   \n",
            "3                            0.0                          1.0   \n",
            "4                            0.0                          0.0   \n",
            "\n",
            "   Residential Type_Unknown  \n",
            "0                       0.0  \n",
            "1                       0.0  \n",
            "2                       1.0  \n",
            "3                       0.0  \n",
            "4                       0.0  \n"
          ]
        }
      ]
    },
    {
      "cell_type": "code",
      "source": [
        "# BLOCK 7: Train / Val / Test Split\n",
        "from sklearn.model_selection import train_test_split\n",
        "import pandas as pd\n",
        "import logging\n",
        "\n",
        "logging.basicConfig(level=logging.INFO)\n",
        "\n",
        "class DataSplitter:\n",
        "    def __init__(self, test_size=0.2, val_size=0.5, random_state=42, stratify_target=True):\n",
        "        self.test_size = test_size\n",
        "        self.val_size = val_size\n",
        "        self.random_state = random_state\n",
        "        self.stratify_target = stratify_target\n",
        "\n",
        "    def _remove_rare_classes(self, y, min_samples_per_class=2):\n",
        "        freq = y.value_counts()\n",
        "        rare_classes = freq[freq < min_samples_per_class].index.tolist()\n",
        "        if rare_classes:\n",
        "            mask = ~y.isin(rare_classes)\n",
        "            return y[mask], mask\n",
        "        return y, pd.Series(True, index=y.index)\n",
        "\n",
        "    def split(self, X, y):\n",
        "        X = X.reset_index(drop=True)\n",
        "        y = y.reset_index(drop=True)\n",
        "\n",
        "        stratify = None\n",
        "        if self.stratify_target and (y.dtype == 'object' or y.nunique() < 20):\n",
        "            y_clean, mask = self._remove_rare_classes(y)\n",
        "            X_clean = X[mask]\n",
        "            stratify = y_clean\n",
        "        else:\n",
        "            logging.info(\"Target appears continuous; skipping stratification.\")\n",
        "\n",
        "        X_temp, X_test, y_temp, y_test = train_test_split(\n",
        "            X, y, test_size=self.test_size, random_state=self.random_state,\n",
        "            stratify=stratify if stratify is not None and len(stratify) == len(y) else None\n",
        "        )\n",
        "        # Always use stratify=None for the second split if stratify_target is False\n",
        "        X_train, X_val, y_train, y_val = train_test_split(\n",
        "            X_temp, y_temp, test_size=self.val_size, random_state=self.random_state,\n",
        "            stratify=None\n",
        "        )\n",
        "\n",
        "        logging.info(\"Data split completed.\")\n",
        "        return X_train, X_val, X_test, y_train, y_val, y_test\n",
        "\n",
        "# Run block\n",
        "splitter = DataSplitter(test_size=0.2, val_size=0.5, random_state=42, stratify_target=False)\n",
        "X_train, X_val, X_test, y_train, y_val, y_test = splitter.split(all_features_df, target_variable)\n",
        "\n",
        "print(\"Train size:\", X_train.shape)\n",
        "print(\"Val size:\", X_val.shape)\n",
        "print(\"Test size:\", X_test.shape)"
      ],
      "metadata": {
        "colab": {
          "base_uri": "https://localhost:8080/"
        },
        "id": "HdJ1Es0QgZAL",
        "outputId": "6829a69b-5d62-441b-a923-45951cbc746e"
      },
      "execution_count": 21,
      "outputs": [
        {
          "output_type": "stream",
          "name": "stdout",
          "text": [
            "Train size: (439051, 13)\n",
            "Val size: (439052, 13)\n",
            "Test size: (219526, 13)\n"
          ]
        }
      ]
    },
    {
      "cell_type": "code",
      "source": [
        "# BLOCK 8: Train Keras Model (UPDATED TO HANDLE OPTIONAL FEATURES)\n",
        "import tensorflow as tf\n",
        "from tensorflow.keras.layers import Input, Dense, Embedding, Flatten, Concatenate\n",
        "from tensorflow.keras.models import Model\n",
        "from tensorflow.keras.callbacks import EarlyStopping, ReduceLROnPlateau, ModelCheckpoint\n",
        "import logging\n",
        "\n",
        "logging.basicConfig(level=logging.INFO)\n",
        "\n",
        "class RealEstateModelTrainer:\n",
        "    def __init__(self, input_dims, embedding_dims=None, learning_rate=1e-3):\n",
        "        self.input_dims = input_dims\n",
        "        self.embedding_dims = embedding_dims or {\n",
        "            'address': 32,\n",
        "            'location': 32,\n",
        "            'town': 16\n",
        "        }\n",
        "        self.learning_rate = learning_rate\n",
        "        self.model = None\n",
        "\n",
        "    def build_model(self):\n",
        "        \"\"\"Builds the Keras model using available input features.\"\"\"\n",
        "        inputs = []\n",
        "        embeddings = []\n",
        "\n",
        "        # Numerical Input (always assumed to exist)\n",
        "        numerical_input = Input(shape=(self.input_dims['numerical'],), name='numerical_input')\n",
        "        inputs.append(numerical_input)\n",
        "        embeddings.append(numerical_input)  # Now directly part of embeddings\n",
        "\n",
        "        # Address Input (optional)\n",
        "        if 'address' in self.input_dims and self.input_dims['address'] > 0:\n",
        "            address_input = Input(shape=(1,), name='address_input')\n",
        "            address_embedding = Embedding(  x\n",
        "                input_dim=self.input_dims['address'],\n",
        "                output_dim=self.embedding_dims['address']\n",
        "            )(address_input)\n",
        "            inputs.append(address_input)\n",
        "            embeddings.append(Flatten()(address_embedding))\n",
        "\n",
        "        # Location Input (optional)\n",
        "        if 'location' in self.input_dims and self.input_dims['location'] > 0:\n",
        "            location_input = Input(shape=(1,), name='location_input')\n",
        "            location_embedding = Embedding(\n",
        "                input_dim=self.input_dims['location'],\n",
        "                output_dim=self.embedding_dims['location']\n",
        "            )(location_input)\n",
        "            inputs.append(location_input)\n",
        "            embeddings.append(Flatten()(location_embedding))\n",
        "\n",
        "        # Town Input (optional)\n",
        "        if 'town' in self.input_dims and self.input_dims['town'] > 0:\n",
        "            town_input = Input(shape=(1,), name='town_input')\n",
        "            town_embedding = Embedding(\n",
        "                input_dim=self.input_dims['town'],\n",
        "                output_dim=self.embedding_dims['town']\n",
        "            )(town_input)\n",
        "            inputs.append(town_input)\n",
        "            embeddings.append(Flatten()(town_embedding))\n",
        "\n",
        "        # Other Features (like one-hot encoded residential types)\n",
        "        if 'other_features' in self.input_dims and self.input_dims['other_features'] > 0:\n",
        "            other_features_input = Input(shape=(self.input_dims['other_features'],), name='other_features_input')\n",
        "            inputs.append(other_features_input)\n",
        "            embeddings.append(other_features_input)\n",
        "\n",
        "        if len(embeddings) == 0:\n",
        "            raise ValueError(\"No valid features provided to model. Check input dimensions.\")\n",
        "\n",
        "        merged = Concatenate()(embeddings)\n",
        "\n",
        "        # Hidden layers\n",
        "        x = Dense(128, activation='relu')(merged)\n",
        "        x = tf.keras.layers.BatchNormalization()(x)\n",
        "        x = tf.keras.layers.Dropout(0.3)(x)\n",
        "        x = Dense(64, activation='relu')(x)\n",
        "        x = tf.keras.layers.BatchNormalization()(x)\n",
        "        x = tf.keras.layers.Dropout(0.3)(x)\n",
        "        output_layer = Dense(1, activation='linear')(x)\n",
        "\n",
        "        self.model = Model(inputs=inputs, outputs=output_layer)\n",
        "\n",
        "        self.model.compile(\n",
        "            loss='mse',\n",
        "            optimizer=tf.keras.optimizers.Adam(learning_rate=self.learning_rate),\n",
        "            metrics=['mae']\n",
        "        )\n",
        "        return self.model\n",
        "\n",
        "    def prepare_inputs(self, df):\n",
        "        \"\"\"Prepare input arrays dynamically based on available columns.\"\"\"\n",
        "        inputs = []\n",
        "\n",
        "        # Always include numerical data\n",
        "        numerical_data = df[['List Year', 'Assessed Value', 'Sales Ratio']].values\n",
        "        inputs.append(numerical_data)\n",
        "\n",
        "        # Optional categorical features\n",
        "        if 'Address_encoded' in df.columns:\n",
        "            inputs.append(df['Address_encoded'].values.reshape(-1,1))\n",
        "        if 'Location_encoded' in df.columns:\n",
        "            inputs.append(df['Location_encoded'].values.reshape(-1,1))\n",
        "        if 'Town_encoded' in df.columns:\n",
        "            inputs.append(df['Town_encoded'].values.reshape(-1,1))\n",
        "\n",
        "        # Other features (like one-hot encoded residential types)\n",
        "        other_features = df.filter(like='Residential Type_').values\n",
        "        if other_features.shape[1] > 0:\n",
        "            inputs.append(other_features)\n",
        "\n",
        "        return inputs\n",
        "\n",
        "    def train(self, X_train, y_train, X_val, y_val, epochs=50, batch_size=64, model_dir='models'):\n",
        "        \"\"\"Train model with callbacks and save best model.\"\"\"\n",
        "        os.makedirs(model_dir, exist_ok=True)\n",
        "\n",
        "        train_inputs = self.prepare_inputs(X_train)\n",
        "        val_inputs = self.prepare_inputs(X_val)\n",
        "\n",
        "        callbacks = [\n",
        "            EarlyStopping(patience=10, restore_best_weights=True),\n",
        "            ReduceLROnPlateau(factor=0.5, patience=3),\n",
        "            ModelCheckpoint(filepath=os.path.join(model_dir, 'best_model.keras'), save_best_only=True)\n",
        "        ]\n",
        "\n",
        "        history = self.model.fit(\n",
        "            train_inputs, y_train,\n",
        "            validation_data=(val_inputs, y_val),\n",
        "            epochs=epochs,\n",
        "            batch_size=batch_size,\n",
        "            callbacks=callbacks\n",
        "        )\n",
        "\n",
        "        return history\n",
        "\n",
        "\n",
        "# Build input dimensions dynamically\n",
        "input_dims = {\n",
        "    'numerical': 3,\n",
        "    'address': len(processor.mappings_['Address']) if 'Address' in processor.mappings_ else 0,\n",
        "    'location': len(processor.mappings_['Location']) if 'Location' in processor.mappings_ else 0,\n",
        "    'town': len(processor.mappings_['Town']) if 'Town' in processor.mappings_ else 0,\n",
        "    'other_features': X_encoded.filter(like='Residential Type_').shape[1]\n",
        "}\n",
        "\n",
        "# Only include dimensions > 0\n",
        "input_dims = {k: v for k, v in input_dims.items() if v > 0}\n",
        "\n",
        "# Initialize and train\n",
        "trainer = RealEstateModelTrainer(input_dims=input_dims)\n",
        "trainer.build_model()\n",
        "history = trainer.train(X_train, y_train, X_val, y_val, epochs=10, batch_size=64)"
      ],
      "metadata": {
        "colab": {
          "base_uri": "https://localhost:8080/"
        },
        "id": "f0yeFN2Oge-8",
        "outputId": "2c7862cb-ef02-45dc-8b60-dff8344e9821"
      },
      "execution_count": 22,
      "outputs": [
        {
          "output_type": "stream",
          "name": "stdout",
          "text": [
            "Epoch 1/10\n",
            "\u001b[1m6861/6861\u001b[0m \u001b[32m━━━━━━━━━━━━━━━━━━━━\u001b[0m\u001b[37m\u001b[0m \u001b[1m2731s\u001b[0m 398ms/step - loss: 119244939264.0000 - mae: 284700.3750 - val_loss: 115385491456.0000 - val_mae: 280153.5312 - learning_rate: 0.0010\n",
            "Epoch 2/10\n",
            "\u001b[1m6861/6861\u001b[0m \u001b[32m━━━━━━━━━━━━━━━━━━━━\u001b[0m\u001b[37m\u001b[0m \u001b[1m2923s\u001b[0m 418ms/step - loss: 113183973376.0000 - mae: 278157.4688 - val_loss: 106320199680.0000 - val_mae: 268653.8125 - learning_rate: 0.0010\n",
            "Epoch 3/10\n",
            "\u001b[1m6861/6861\u001b[0m \u001b[32m━━━━━━━━━━━━━━━━━━━━\u001b[0m\u001b[37m\u001b[0m \u001b[1m2868s\u001b[0m 413ms/step - loss: 101261590528.0000 - mae: 264553.8125 - val_loss: 92970598400.0000 - val_mae: 253141.0469 - learning_rate: 0.0010\n",
            "Epoch 4/10\n",
            "\u001b[1m6861/6861\u001b[0m \u001b[32m━━━━━━━━━━━━━━━━━━━━\u001b[0m\u001b[37m\u001b[0m \u001b[1m2877s\u001b[0m 418ms/step - loss: 85307973632.0000 - mae: 245339.3125 - val_loss: 78167367680.0000 - val_mae: 232441.8281 - learning_rate: 0.0010\n",
            "Epoch 5/10\n",
            "\u001b[1m6861/6861\u001b[0m \u001b[32m━━━━━━━━━━━━━━━━━━━━\u001b[0m\u001b[37m\u001b[0m \u001b[1m2886s\u001b[0m 421ms/step - loss: 67062419456.0000 - mae: 220613.6719 - val_loss: 59064156160.0000 - val_mae: 200270.7031 - learning_rate: 0.0010\n",
            "Epoch 6/10\n",
            "\u001b[1m6861/6861\u001b[0m \u001b[32m━━━━━━━━━━━━━━━━━━━━\u001b[0m\u001b[37m\u001b[0m \u001b[1m2826s\u001b[0m 412ms/step - loss: 48120410112.0000 - mae: 190188.2656 - val_loss: 41293303808.0000 - val_mae: 165469.7969 - learning_rate: 0.0010\n",
            "Epoch 7/10\n",
            "\u001b[1m6861/6861\u001b[0m \u001b[32m━━━━━━━━━━━━━━━━━━━━\u001b[0m\u001b[37m\u001b[0m \u001b[1m2839s\u001b[0m 414ms/step - loss: 30473672704.0000 - mae: 154457.0000 - val_loss: 26940080128.0000 - val_mae: 130665.7578 - learning_rate: 0.0010\n",
            "Epoch 8/10\n",
            "\u001b[1m6861/6861\u001b[0m \u001b[32m━━━━━━━━━━━━━━━━━━━━\u001b[0m\u001b[37m\u001b[0m \u001b[1m2850s\u001b[0m 415ms/step - loss: 16669898752.0000 - mae: 115028.8047 - val_loss: 22241937408.0000 - val_mae: 102894.9453 - learning_rate: 0.0010\n",
            "Epoch 9/10\n",
            "\u001b[1m6861/6861\u001b[0m \u001b[32m━━━━━━━━━━━━━━━━━━━━\u001b[0m\u001b[37m\u001b[0m \u001b[1m2838s\u001b[0m 414ms/step - loss: 8032153088.0000 - mae: 75949.5234 - val_loss: 11833684992.0000 - val_mae: 78630.7578 - learning_rate: 0.0010\n",
            "Epoch 10/10\n",
            "\u001b[1m6861/6861\u001b[0m \u001b[32m━━━━━━━━━━━━━━━━━━━━\u001b[0m\u001b[37m\u001b[0m \u001b[1m2818s\u001b[0m 410ms/step - loss: 3879212800.0000 - mae: 46953.0508 - val_loss: 9327412224.0000 - val_mae: 67609.6016 - learning_rate: 0.0010\n"
          ]
        }
      ]
    },
    {
      "cell_type": "code",
      "source": [
        "# BLOCK 9: Evaluate Model on Test Set\n",
        "from sklearn.metrics import mean_absolute_error, mean_squared_error, r2_score\n",
        "import matplotlib.pyplot as plt\n",
        "\n",
        "# Prepare test inputs\n",
        "test_inputs = trainer.prepare_inputs(X_test)\n",
        "\n",
        "# Make predictions\n",
        "y_pred = trainer.model.predict(test_inputs).flatten()\n",
        "\n",
        "# Calculate metrics\n",
        "mae = mean_absolute_error(y_test, y_pred)\n",
        "rmse = np.sqrt(mean_squared_error(y_test, y_pred))\n",
        "r2 = r2_score(y_test, y_pred)\n",
        "\n",
        "print(f\"Test MAE: {mae:.2f}\")\n",
        "print(f\"Test RMSE: {rmse:.2f}\")\n",
        "print(f\"Test R² Score: {r2:.4f}\")\n",
        "\n",
        "# Plot Actual vs Predicted\n",
        "plt.figure(figsize=(10,6))\n",
        "plt.scatter(y_test, y_pred, alpha=0.5)\n",
        "plt.plot([y_test.min(), y_test.max()], [y_test.min(), y_test.max()], 'r--')\n",
        "plt.xlabel(\"Actual Sale Amount\")\n",
        "plt.ylabel(\"Predicted Sale Amount\")\n",
        "plt.title(\"Actual vs Predicted Sale Amount\")\n",
        "plt.grid(True)\n",
        "plt.show()"
      ],
      "metadata": {
        "colab": {
          "base_uri": "https://localhost:8080/",
          "height": 633
        },
        "id": "z4LwgT6mgl-E",
        "outputId": "9ba9d2c8-1e9f-45a3-b0e3-bdcba3698629"
      },
      "execution_count": 23,
      "outputs": [
        {
          "output_type": "stream",
          "name": "stdout",
          "text": [
            "\u001b[1m6861/6861\u001b[0m \u001b[32m━━━━━━━━━━━━━━━━━━━━\u001b[0m\u001b[37m\u001b[0m \u001b[1m20s\u001b[0m 3ms/step\n",
            "Test MAE: 67573.08\n",
            "Test RMSE: 98428.42\n",
            "Test R² Score: 0.7481\n"
          ]
        },
        {
          "output_type": "display_data",
          "data": {
            "text/plain": [
              "<Figure size 1000x600 with 1 Axes>"
            ],
            "image/png": "[encoded data removed]"
          },
          "metadata": {}
        }
      ]
    },
    {
      "cell_type": "code",
      "source": [
        "# BLOCK 10: Save Trained Model and Preprocessor\n",
        "import joblib\n",
        "import os\n",
        "\n",
        "# Create output directory\n",
        "os.makedirs('models', exist_ok=True)\n",
        "\n",
        "# Save Keras model with a valid extension\n",
        "trainer.model.save('models/keras_model.keras') # Added .keras extension\n",
        "\n",
        "# Save processor (mappings + scaler)\n",
        "processor.save_mappings_and_scaler(output_dir='models/preprocessor')\n",
        "\n",
        "# Save encoded column names for future use\n",
        "encoded_columns = X_encoded.filter(like='Residential Type_').columns.tolist()\n",
        "joblib.dump(encoded_columns, 'models/encoded_columns.pkl')\n",
        "\n",
        "# Save input dimensions\n",
        "joblib.dump(input_dims, 'models/input_dims.pkl')\n",
        "\n",
        "print(\"Model and artifacts saved successfully.\")"
      ],
      "metadata": {
        "colab": {
          "base_uri": "https://localhost:8080/"
        },
        "id": "VArWPjbiPJJv",
        "outputId": "9bb92e90-8ab9-4e52-a2ef-81a41d92d1ea"
      },
      "execution_count": 25,
      "outputs": [
        {
          "output_type": "stream",
          "name": "stdout",
          "text": [
            "Model and artifacts saved successfully.\n"
          ]
        }
      ]
    },
    {
      "cell_type": "code",
      "source": [
        "# BLOCK 11: Plot Training & Validation Metrics\n",
        "import matplotlib.pyplot as plt\n",
        "\n",
        "# Plot MAE\n",
        "plt.figure(figsize=(10, 4))\n",
        "plt.subplot(1, 2, 1)\n",
        "plt.plot(history.history['mae'], label='Train MAE')\n",
        "plt.plot(history.history['val_mae'], label='Val MAE')\n",
        "plt.title('MAE Over Epochs')\n",
        "plt.xlabel('Epoch')\n",
        "plt.ylabel('MAE')\n",
        "plt.legend()\n",
        "plt.grid(True)\n",
        "\n",
        "# Plot Loss\n",
        "plt.subplot(1, 2, 2)\n",
        "plt.plot(history.history['loss'], label='Train Loss')\n",
        "plt.plot(history.history['val_loss'], label='Val Loss')\n",
        "plt.title('Loss Over Epochs')\n",
        "plt.xlabel('Epoch')\n",
        "plt.ylabel('MSE')\n",
        "plt.legend()\n",
        "plt.grid(True)\n",
        "\n",
        "plt.tight_layout()\n",
        "plt.show()"
      ],
      "metadata": {
        "colab": {
          "base_uri": "https://localhost:8080/",
          "height": 355
        },
        "id": "4lV4CSiaPoga",
        "outputId": "1cae9df9-daf6-4d75-a464-5853f50a4550"
      },
      "execution_count": 26,
      "outputs": [
        {
          "output_type": "display_data",
          "data": {
            "text/plain": [
              "<Figure size 1000x400 with 2 Axes>"
            ],
            "image/png": "[encoded data removed]"
          },
          "metadata": {}
        }
      ]
    },
    {
      "cell_type": "code",
      "source": [
        "# BLOCK 12: Interpret Model with SHAP (FINAL WORKING VERSION)\n",
        "import shap\n",
        "import numpy as np\n",
        "import tensorflow as tf\n",
        "import matplotlib.pyplot as plt\n",
        "\n",
        "# Prepare background data\n",
        "background_data = trainer.prepare_inputs(X_train[:100])  # List of input arrays per feature\n",
        "input_shapes = [arr.shape[1] for arr in background_data]\n",
        "\n",
        "print(\"Input shapes:\", input_shapes)\n",
        "print(\"Number of input layers:\", len(background_data))\n",
        "\n",
        "# Wrap model in function that accepts single tensor and splits into multiple inputs\n",
        "def combined_model_predict(combined_tensor):\n",
        "    \"\"\"\n",
        "    Takes a single tensor and splits it back into original inputs.\n",
        "    \"\"\"\n",
        "    start = 0\n",
        "    split_inputs = []\n",
        "    for shape in input_shapes:\n",
        "        end = start + shape\n",
        "        split_inputs.append(combined_tensor[:, start:end])\n",
        "        start = end\n",
        "    return trainer.model(tuple(split_inputs))\n",
        "\n",
        "# Concatenate all inputs into one NumPy array for SHAP compatibility\n",
        "background_tensor = np.hstack(background_data)  # Shape: (100, total_input_dim)\n",
        "print(\"Background tensor shape:\", background_tensor.shape)\n",
        "\n",
        "# Predict on background to verify\n",
        "try:\n",
        "    y_pred = combined_model_predict(tf.convert_to_tensor(background_tensor, dtype=tf.float32))\n",
        "    print(\"\\nModel prediction sample:\", y_pred.numpy()[:5].flatten())\n",
        "except Exception as e:\n",
        "    print(\"Model predict error:\", str(e))\n",
        "\n",
        "# Create explainer\n",
        "try:\n",
        "    # Correct usage for SHAP >=0.46+\n",
        "    explainer = shap.DeepExplainer(\n",
        "        combined_model_predict,\n",
        "        background_tensor,\n",
        "        session=None  # Not needed in eager mode\n",
        "    )\n",
        "except Exception as e:\n",
        "    print(\"Error creating DeepExplainer:\", str(e))\n",
        "    explainer = None\n",
        "\n",
        "# Compute SHAP values\n",
        "if explainer is not None:\n",
        "    try:\n",
        "        shap_values = explainer.shap_values(background_tensor)\n",
        "\n",
        "        # Summary plot\n",
        "        print(\"\\nPlotting SHAP summary...\")\n",
        "        shap.summary_plot(shap_values, background_tensor, feature_names=all_features_df.columns.tolist())\n",
        "\n",
        "        # Optional: Bar plot\n",
        "        shap.summary_plot(shap_values, background_tensor, feature_names=all_features_df.columns.tolist(), plot_type=\"bar\")\n",
        "\n",
        "    except Exception as e:\n",
        "        print(\"Error computing SHAP values:\", str(e))\n",
        "else:\n",
        "    print(\"Explainer could not be created.\")"
      ],
      "metadata": {
        "colab": {
          "base_uri": "https://localhost:8080/"
        },
        "id": "X9o16wApQDvr",
        "outputId": "f6e048bb-dfea-43a6-992a-dc5280502e23"
      },
      "execution_count": 36,
      "outputs": [
        {
          "output_type": "stream",
          "name": "stdout",
          "text": [
            "Input shapes: [3, 1, 1, 1, 6]\n",
            "Number of input layers: 5\n",
            "Background tensor shape: (100, 12)\n",
            "\n",
            "Model prediction sample: [604597.7  168286.75 592979.3  140456.67 157469.42]\n",
            "Error creating DeepExplainer: <class 'function'> is not currently a supported model type!\n",
            "Explainer could not be created.\n"
          ]
        },
        {
          "output_type": "stream",
          "name": "stderr",
          "text": [
            "/usr/local/lib/python3.11/dist-packages/shap/explainers/_deep/deep_tf.py:94: UserWarning: Your TensorFlow version is newer than 2.4.0 and so graph support has been removed in eager mode and some static graphs may not be supported. See PR #1483 for discussion.\n",
            "  warnings.warn(\n"
          ]
        }
      ]
    },
    {
      "cell_type": "code",
      "source": [
        "# Alternative: Use GradientExplainer if DeepExplainer fails\n",
        "try:\n",
        "    explainer = shap.GradientExplainer(\n",
        "        model=combined_model_predict,\n",
        "        data=background_tensor\n",
        "    )\n",
        "    shap_values = explainer.shap_values(background_tensor)\n",
        "\n",
        "    print(\"\\nPlotting SHAP summary...\")\n",
        "    shap.summary_plot(shap_values, background_tensor, feature_names=all_features_df.columns.tolist())\n",
        "\n",
        "except Exception as e:\n",
        "    print(\"Error with GradientExplainer:\", str(e))"
      ],
      "metadata": {
        "colab": {
          "base_uri": "https://localhost:8080/"
        },
        "id": "y-TUEhftZ7JR",
        "outputId": "d7452d3d-ac1f-4185-dccd-3c6382af516d"
      },
      "execution_count": 37,
      "outputs": [
        {
          "output_type": "stream",
          "name": "stdout",
          "text": [
            "Error with GradientExplainer: <class 'function'> is not currently a supported model type!\n"
          ]
        }
      ]
    },
    {
      "cell_type": "code",
      "source": [
        "# BLOCK 14: Wrap into Inference Function (FINAL FIXED VERSION)\n",
        "\n",
        "import numpy as np\n",
        "import pandas as pd\n",
        "import logging\n",
        "\n",
        "logging.basicConfig(level=logging.INFO)\n",
        "\n",
        "def predict_property_price(df_new, processor, trainer, other_feature_cols):\n",
        "    \"\"\"\n",
        "    Predict sale amount for new property data.\n",
        "\n",
        "    Args:\n",
        "        df_new (pd.DataFrame): Raw new property data\n",
        "        processor (HighCardinalityFeatureProcessor): Fitted preprocessor from Block 6\n",
        "        trainer (RealEstateModelTrainer): Trained Keras model and input preparation\n",
        "        other_feature_cols (list): List of one-hot encoded feature names used during training\n",
        "\n",
        "    Returns:\n",
        "        np.array: Predicted sale amounts\n",
        "    \"\"\"\n",
        "    # Step 1: Clean new data\n",
        "    df_cleaned = clean_and_inspect_data(df_new)  # From Block 2\n",
        "\n",
        "    # Step 2: Apply high-cardinality encoding\n",
        "    df_processed = processor.transform(df_cleaned)\n",
        "\n",
        "    # Step 3: Prepare inputs dynamically based on available columns\n",
        "    inputs = []\n",
        "\n",
        "    # Numerical Inputs\n",
        "    numerical_cols = ['List Year', 'Assessed Value', 'Sales Ratio']\n",
        "    if all(col in df_processed.columns for col in numerical_cols):\n",
        "        numerical_data = df_processed[numerical_cols].values\n",
        "        inputs.append(numerical_data)\n",
        "    else:\n",
        "        raise ValueError(\"Missing one or more required numerical columns\")\n",
        "\n",
        "    # Categorical Encoded Inputs\n",
        "    high_cardinality_cols = ['Address', 'Location', 'Town']\n",
        "    for col in high_cardinality_cols:\n",
        "        encoded_col = f\"{col}_encoded\"\n",
        "        if encoded_col in df_processed.columns:\n",
        "            inputs.append(df_processed[encoded_col].values.reshape(-1, 1))\n",
        "        else:\n",
        "            # If encoder wasn't seen during training, use default value (e.g., -1)\n",
        "            inputs.append(np.full((len(df_new), 1), -1))\n",
        "\n",
        "    # One-Hot Features (e.g., Residential Type_*)\n",
        "    other_features = df_processed.reindex(columns=other_feature_cols, fill_value=0).values\n",
        "    if other_features.shape[1] == len(other_feature_cols):\n",
        "        inputs.append(other_features)\n",
        "    else:\n",
        "        raise ValueError(f\"Expected {len(other_feature_cols)} one-hot features, got {other_features.shape[1]}\")\n",
        "\n",
        "    # Run prediction\n",
        "    try:\n",
        "        prediction = trainer.model.predict(inputs)\n",
        "        return prediction\n",
        "    except Exception as e:\n",
        "        logging.error(f\"Prediction failed: {e}\")\n",
        "        raise\n",
        "\n",
        "# Example usage:\n",
        "# Define these once after training:\n",
        "other_feature_cols = X_encoded.filter(like='Residential Type_').columns.tolist()\n",
        "\n",
        "# Test with new property\n",
        "new_property = pd.DataFrame({\n",
        "    'List Year': [2022],\n",
        "    'Town': ['Bridgeport'],\n",
        "    'Address': ['123 Main St'],\n",
        "    'Assessed Value': [300000],\n",
        "    'Sales Ratio': [0.95],\n",
        "    'Location': [\"POINT (-73.06822 41.35014)\"],\n",
        "    'Residential Type_Single Family': [1],\n",
        "    'Residential Type_Condo': [0],\n",
        "    'Residential Type_Two Family': [0],\n",
        "    'Residential Type_Three Family': [0],\n",
        "    # ⚠️ This line below may be causing the error!\n",
        "    'Residential Type_Multi Family': [0],  # 👈 Not present in training?\n",
        "})\n",
        "\n",
        "# Ensure correct column order and run prediction\n",
        "predicted_price = predict_property_price(new_property, processor, trainer, other_feature_cols)\n",
        "print(f\"Predicted Sale Amount: ${predicted_price[0][0]:,.2f}\")"
      ],
      "metadata": {
        "colab": {
          "base_uri": "https://localhost:8080/"
        },
        "id": "Oaxfmj3ESURM",
        "outputId": "f9710705-ebe0-4aaa-b163-44abf474221d"
      },
      "execution_count": 38,
      "outputs": [
        {
          "output_type": "stream",
          "name": "stdout",
          "text": [
            "\u001b[1m1/1\u001b[0m \u001b[32m━━━━━━━━━━━━━━━━━━━━\u001b[0m\u001b[37m\u001b[0m \u001b[1m0s\u001b[0m 302ms/step\n",
            "Predicted Sale Amount: $424,031.72\n"
          ]
        }
      ]
    },
    {
      "cell_type": "code",
      "source": [],
      "metadata": {
        "id": "TULAcUHlSh-g"
      },
      "execution_count": null,
      "outputs": []
    }
  ]
}